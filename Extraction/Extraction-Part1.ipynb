{
 "cells": [
  {
   "cell_type": "code",
   "execution_count": null,
   "id": "83005413-9c6d-4fde-b932-ddf9c78f774e",
   "metadata": {},
   "outputs": [],
   "source": [
    "Extraction: Below extracts the data from Customers,Products,Markets,Date,Transcations tables from MySQL On-Prem DB"
   ]
  },
  {
   "cell_type": "code",
   "execution_count": null,
   "id": "6208534b-0db7-4dc1-89b0-2a785294ee4b",
   "metadata": {},
   "outputs": [],
   "source": [
    "This Code extracts the data from the On-Premises MY-SQL server using python scripting for extraction:\n",
    "\n",
    "The Breif description about the code is given as:\n",
    "The provided Python script connects to a MySQL database, retrieves data from a user-specified table, and exports the data to a CSV file. Here's a summary of the code:\n",
    "\n",
    "1. Database Connection Setup:\n",
    "   - Reads database credentials (host, user, password, database) from a configuration file (`config.ini`) using the `ConfigParser` module.\n",
    "   - Establishes a connection to the MySQL database using the `mysql.connector` library.\n",
    "\n",
    "2. User Interaction:\n",
    "   - Prompts the user to enter the name of the table from which data should be retrieved.\n",
    "\n",
    "3. Query Execution:\n",
    "   - Constructs a SELECT query using the user-specified table name.\n",
    "   - Executes the query using a cursor.\n",
    "\n",
    "4. CSV File Creation:\n",
    "   - Specifies the output directory as `C:\\Users\\cmald\\Desktop\\ETL-Project`.\n",
    "   - Prompts the user to enter the desired output CSV file name (including the `.csv` extension).\n",
    "   - Combines the output directory and the user-specified file name using `os.path.join`.\n",
    "   - Opens the CSV file in write mode and creates a `csv.writer` object.\n",
    "\n",
    "5. Data Export to CSV:\n",
    "   - Writes the header (column names) to the CSV file using information from the cursor's description.\n",
    "   - Writes the fetched data rows to the CSV file.\n",
    "\n",
    "6. Error Handling:\n",
    "   - Catches and prints any `mysql.connector` errors that may occur during the execution of the script.\n",
    "\n",
    "7. Connection Closure:\n",
    "   - Closes the cursor and the database connection, ensuring proper resource cleanup.\n",
    "\n",
    "8. Summary Output:\n",
    "   - Prints a success message if the data is successfully written to the CSV file.\n",
    "   - In case of errors, prints an error message.\n",
    "\n",
    "Overall, the script allows users to specify a MySQL table, exports the data to a CSV file, \n",
    "and ensures secure handling of database credentials by reading them from a separate configuration file.\n",
    "The output CSV file is stored in a user-defined directory (`C:\\Users\\cmald\\Desktop\\ETL-Project`)."
   ]
  },
  {
   "cell_type": "code",
   "execution_count": 8,
   "id": "0c5f382c-7eee-4ed3-9f87-27820c5d7b09",
   "metadata": {},
   "outputs": [
    {
     "name": "stdout",
     "output_type": "stream",
     "text": [
      "Connected to MySQL database\n"
     ]
    },
    {
     "name": "stdin",
     "output_type": "stream",
     "text": [
      "Enter the table name:  transactions\n",
      "Enter the output CSV file name (with .csv extension):  transactions_03082024\n"
     ]
    },
    {
     "name": "stdout",
     "output_type": "stream",
     "text": [
      "Data successfully written to C:\\Users\\cmald\\Desktop\\ETL-Project\\transactions_03082024\n",
      "MySQL connection closed\n"
     ]
    }
   ],
   "source": [
    "#Code for extraction implementation\n",
    "import mysql.connector\n",
    "import csv\n",
    "import os\n",
    "from configparser import ConfigParser\n",
    "\n",
    "# Read database credentials from the configuration file\n",
    "config = ConfigParser()\n",
    "config.read('config.ini')\n",
    "\n",
    "host = config.get('database', 'host')\n",
    "user = config.get('database', 'user')\n",
    "password = config.get('database', 'password')\n",
    "database = config.get('database', 'database')\n",
    "\n",
    "# Establish a connection to the MySQL database\n",
    "try:\n",
    "    connection = mysql.connector.connect(\n",
    "        host=host,\n",
    "        user=user,\n",
    "        password=password,\n",
    "        database=database\n",
    "    )\n",
    "\n",
    "    if connection.is_connected():\n",
    "        print(\"Connected to MySQL database\")\n",
    "\n",
    "        # Create a cursor to interact with the database\n",
    "        cursor = connection.cursor()\n",
    "\n",
    "        # Get the table name from the user\n",
    "        table_name = input(\"Enter the table name: \")\n",
    "\n",
    "        # Construct the query with the user-specified table name\n",
    "        query = f\"SELECT * FROM {table_name}\"\n",
    "\n",
    "        # Execute the query\n",
    "        cursor.execute(query)\n",
    "\n",
    "        # Fetch all the rows\n",
    "        rows = cursor.fetchall()\n",
    "\n",
    "        # Specify the output directory\n",
    "        output_directory = r'C:\\Users\\cmald\\Desktop\\ETL-Project'\n",
    "\n",
    "        # Get the output file name from the user\n",
    "        csv_file_name = os.path.join(output_directory, input(\"Enter the output CSV file name (with .csv extension): \"))\n",
    "\n",
    "        # Write data to CSV file\n",
    "        with open(csv_file_name, 'w', newline='') as csv_file:\n",
    "            csv_writer = csv.writer(csv_file)\n",
    "\n",
    "            # Write the header (column names)\n",
    "            csv_writer.writerow([i[0] for i in cursor.description])\n",
    "\n",
    "            # Write the data\n",
    "            csv_writer.writerows(rows)\n",
    "\n",
    "        print(f\"Data successfully written to {csv_file_name}\")\n",
    "\n",
    "except mysql.connector.Error as e:\n",
    "    print(f\"Error: {e}\")\n",
    "\n",
    "finally:\n",
    "    # Close the cursor and connection\n",
    "    if 'cursor' in locals():\n",
    "        cursor.close()\n",
    "    if 'connection' in locals() and connection.is_connected():\n",
    "        connection.close()\n",
    "        print(\"MySQL connection closed\")\n"
   ]
  }
 ],
 "metadata": {
  "kernelspec": {
   "display_name": "Python 3 (ipykernel)",
   "language": "python",
   "name": "python3"
  },
  "language_info": {
   "codemirror_mode": {
    "name": "ipython",
    "version": 3
   },
   "file_extension": ".py",
   "mimetype": "text/x-python",
   "name": "python",
   "nbconvert_exporter": "python",
   "pygments_lexer": "ipython3",
   "version": "3.11.7"
  }
 },
 "nbformat": 4,
 "nbformat_minor": 5
}
