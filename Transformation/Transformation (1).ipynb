{
 "cells": [
  {
   "cell_type": "code",
   "execution_count": null,
   "id": "fcc806e0-9f2d-4e15-9119-213df699b51b",
   "metadata": {},
   "outputs": [],
   "source": [
    "Transformation and Loading"
   ]
  },
  {
   "cell_type": "code",
   "execution_count": null,
   "id": "e4d80d66-ce4f-497f-b60b-1c24f77337a5",
   "metadata": {},
   "outputs": [],
   "source": [
    "This part of the code transforms the raw data, checks for any null or duplicates values and loads the transformed data into azure \n",
    "Synapses."
   ]
  },
  {
   "cell_type": "code",
   "execution_count": null,
   "id": "d6b57616-5e9b-4695-97b3-679cd1f5d8ca",
   "metadata": {},
   "outputs": [],
   "source": [
    "The provided code performs the following tasks:\n",
    "\n",
    "1. Folder and File Specification:\n",
    "   - Specifies the folder path where the CSV files are located (`folder_path`).\n",
    "   - Lists the names of CSV files to be read (`file_names`).\n",
    "\n",
    "2. DataFrame Reading and Storage:\n",
    "   - Uses a loop to iterate through each CSV file.\n",
    "   - Constructs the full path for each file using `os.path.join`.\n",
    "   - Reads each CSV file into a DataFrame using `pd.read_csv`.\n",
    "   - Creates a dictionary (`data_frames`) to store DataFrames, where keys are derived from file names.\n",
    "\n",
    "3. DataFrame Naming Convention:\n",
    "   - Derives DataFrame names (`df_name`) from the file names by extracting the type (e.g., \"markets\") and appending \"_df\".\n",
    "   - Creates a dictionary entry with the DataFrame name as the key and the corresponding DataFrame as the value.\n",
    "\n",
    "4. Displaying the Head of Each DataFrame:\n",
    "   - Uses a loop to iterate through the dictionary of DataFrames (`data_frames`).\n",
    "   - Prints the head of each DataFrame using `display(df.head())`.\n",
    "\n",
    "5. Error Handling:\n",
    "   - Catches potential errors such as `FileNotFoundError`, `EmptyDataError`, and `ParserError` and prints an error message.\n",
    "\n",
    "6. Example Usage:\n",
    "   - Demonstrates how to access the individual DataFrames (`markets_df`, `transactions_df`, etc.) after reading and storing them.\n",
    "\n",
    "Overall, the code automates the process of reading multiple CSV files from a specified folder, creating DataFrames, and storing them in a \n",
    "dictionary for easy access. It also provides error handling for potential issues during file reading."
   ]
  },
  {
   "cell_type": "code",
   "execution_count": 1,
   "id": "de8335e4-6aa7-457e-97ce-a38a743fac83",
   "metadata": {},
   "outputs": [
    {
     "name": "stdout",
     "output_type": "stream",
     "text": [
      "\n",
      "Head of markets_df:\n"
     ]
    },
    {
     "data": {
      "text/html": [
       "<div>\n",
       "<style scoped>\n",
       "    .dataframe tbody tr th:only-of-type {\n",
       "        vertical-align: middle;\n",
       "    }\n",
       "\n",
       "    .dataframe tbody tr th {\n",
       "        vertical-align: top;\n",
       "    }\n",
       "\n",
       "    .dataframe thead th {\n",
       "        text-align: right;\n",
       "    }\n",
       "</style>\n",
       "<table border=\"1\" class=\"dataframe\">\n",
       "  <thead>\n",
       "    <tr style=\"text-align: right;\">\n",
       "      <th></th>\n",
       "      <th>markets_code</th>\n",
       "      <th>markets_name</th>\n",
       "      <th>zone</th>\n",
       "    </tr>\n",
       "  </thead>\n",
       "  <tbody>\n",
       "    <tr>\n",
       "      <th>0</th>\n",
       "      <td>Mark001</td>\n",
       "      <td>Chennai</td>\n",
       "      <td>South</td>\n",
       "    </tr>\n",
       "    <tr>\n",
       "      <th>1</th>\n",
       "      <td>Mark002</td>\n",
       "      <td>Mumbai</td>\n",
       "      <td>Central</td>\n",
       "    </tr>\n",
       "    <tr>\n",
       "      <th>2</th>\n",
       "      <td>Mark003</td>\n",
       "      <td>Ahmedabad</td>\n",
       "      <td>North</td>\n",
       "    </tr>\n",
       "    <tr>\n",
       "      <th>3</th>\n",
       "      <td>Mark004</td>\n",
       "      <td>Delhi NCR</td>\n",
       "      <td>North</td>\n",
       "    </tr>\n",
       "    <tr>\n",
       "      <th>4</th>\n",
       "      <td>Mark005</td>\n",
       "      <td>Kanpur</td>\n",
       "      <td>North</td>\n",
       "    </tr>\n",
       "  </tbody>\n",
       "</table>\n",
       "</div>"
      ],
      "text/plain": [
       "  markets_code markets_name     zone\n",
       "0      Mark001      Chennai    South\n",
       "1      Mark002       Mumbai  Central\n",
       "2      Mark003    Ahmedabad    North\n",
       "3      Mark004    Delhi NCR    North\n",
       "4      Mark005       Kanpur    North"
      ]
     },
     "metadata": {},
     "output_type": "display_data"
    },
    {
     "name": "stdout",
     "output_type": "stream",
     "text": [
      "\n",
      "Head of transactions_df:\n"
     ]
    },
    {
     "data": {
      "text/html": [
       "<div>\n",
       "<style scoped>\n",
       "    .dataframe tbody tr th:only-of-type {\n",
       "        vertical-align: middle;\n",
       "    }\n",
       "\n",
       "    .dataframe tbody tr th {\n",
       "        vertical-align: top;\n",
       "    }\n",
       "\n",
       "    .dataframe thead th {\n",
       "        text-align: right;\n",
       "    }\n",
       "</style>\n",
       "<table border=\"1\" class=\"dataframe\">\n",
       "  <thead>\n",
       "    <tr style=\"text-align: right;\">\n",
       "      <th></th>\n",
       "      <th>product_code</th>\n",
       "      <th>customer_code</th>\n",
       "      <th>market_code</th>\n",
       "      <th>order_date</th>\n",
       "      <th>sales_qty</th>\n",
       "      <th>sales_amount</th>\n",
       "      <th>currency</th>\n",
       "    </tr>\n",
       "  </thead>\n",
       "  <tbody>\n",
       "    <tr>\n",
       "      <th>0</th>\n",
       "      <td>Prod001</td>\n",
       "      <td>Cus001</td>\n",
       "      <td>Mark001</td>\n",
       "      <td>2017-10-10</td>\n",
       "      <td>100.0</td>\n",
       "      <td>41241.0</td>\n",
       "      <td>INR</td>\n",
       "    </tr>\n",
       "    <tr>\n",
       "      <th>1</th>\n",
       "      <td>Prod001</td>\n",
       "      <td>Cus002</td>\n",
       "      <td>Mark002</td>\n",
       "      <td>2018-05-08</td>\n",
       "      <td>3.0</td>\n",
       "      <td>-1.0</td>\n",
       "      <td>INR</td>\n",
       "    </tr>\n",
       "    <tr>\n",
       "      <th>2</th>\n",
       "      <td>Prod002</td>\n",
       "      <td>Cus003</td>\n",
       "      <td>Mark003</td>\n",
       "      <td>2018-04-06</td>\n",
       "      <td>1.0</td>\n",
       "      <td>875.0</td>\n",
       "      <td>INR</td>\n",
       "    </tr>\n",
       "    <tr>\n",
       "      <th>3</th>\n",
       "      <td>Prod002</td>\n",
       "      <td>Cus003</td>\n",
       "      <td>Mark003</td>\n",
       "      <td>2018-04-11</td>\n",
       "      <td>1.0</td>\n",
       "      <td>583.0</td>\n",
       "      <td>INR</td>\n",
       "    </tr>\n",
       "    <tr>\n",
       "      <th>4</th>\n",
       "      <td>Prod002</td>\n",
       "      <td>Cus004</td>\n",
       "      <td>Mark003</td>\n",
       "      <td>2018-06-18</td>\n",
       "      <td>6.0</td>\n",
       "      <td>7176.0</td>\n",
       "      <td>INR</td>\n",
       "    </tr>\n",
       "  </tbody>\n",
       "</table>\n",
       "</div>"
      ],
      "text/plain": [
       "  product_code customer_code market_code  order_date  sales_qty  sales_amount  \\\n",
       "0      Prod001        Cus001     Mark001  2017-10-10      100.0       41241.0   \n",
       "1      Prod001        Cus002     Mark002  2018-05-08        3.0          -1.0   \n",
       "2      Prod002        Cus003     Mark003  2018-04-06        1.0         875.0   \n",
       "3      Prod002        Cus003     Mark003  2018-04-11        1.0         583.0   \n",
       "4      Prod002        Cus004     Mark003  2018-06-18        6.0        7176.0   \n",
       "\n",
       "  currency  \n",
       "0      INR  \n",
       "1      INR  \n",
       "2      INR  \n",
       "3      INR  \n",
       "4      INR  "
      ]
     },
     "metadata": {},
     "output_type": "display_data"
    },
    {
     "name": "stdout",
     "output_type": "stream",
     "text": [
      "\n",
      "Head of products_df:\n"
     ]
    },
    {
     "data": {
      "text/html": [
       "<div>\n",
       "<style scoped>\n",
       "    .dataframe tbody tr th:only-of-type {\n",
       "        vertical-align: middle;\n",
       "    }\n",
       "\n",
       "    .dataframe tbody tr th {\n",
       "        vertical-align: top;\n",
       "    }\n",
       "\n",
       "    .dataframe thead th {\n",
       "        text-align: right;\n",
       "    }\n",
       "</style>\n",
       "<table border=\"1\" class=\"dataframe\">\n",
       "  <thead>\n",
       "    <tr style=\"text-align: right;\">\n",
       "      <th></th>\n",
       "      <th>product_code</th>\n",
       "      <th>product_type</th>\n",
       "    </tr>\n",
       "  </thead>\n",
       "  <tbody>\n",
       "    <tr>\n",
       "      <th>0</th>\n",
       "      <td>Prod001</td>\n",
       "      <td>Own Brand\\r</td>\n",
       "    </tr>\n",
       "    <tr>\n",
       "      <th>1</th>\n",
       "      <td>Prod002</td>\n",
       "      <td>Own Brand\\r</td>\n",
       "    </tr>\n",
       "    <tr>\n",
       "      <th>2</th>\n",
       "      <td>Prod003</td>\n",
       "      <td>Own Brand\\r</td>\n",
       "    </tr>\n",
       "    <tr>\n",
       "      <th>3</th>\n",
       "      <td>Prod004</td>\n",
       "      <td>Own Brand\\r</td>\n",
       "    </tr>\n",
       "    <tr>\n",
       "      <th>4</th>\n",
       "      <td>Prod005</td>\n",
       "      <td>Own Brand\\r</td>\n",
       "    </tr>\n",
       "  </tbody>\n",
       "</table>\n",
       "</div>"
      ],
      "text/plain": [
       "  product_code product_type\n",
       "0      Prod001  Own Brand\\r\n",
       "1      Prod002  Own Brand\\r\n",
       "2      Prod003  Own Brand\\r\n",
       "3      Prod004  Own Brand\\r\n",
       "4      Prod005  Own Brand\\r"
      ]
     },
     "metadata": {},
     "output_type": "display_data"
    },
    {
     "name": "stdout",
     "output_type": "stream",
     "text": [
      "\n",
      "Head of date_df:\n"
     ]
    },
    {
     "data": {
      "text/html": [
       "<div>\n",
       "<style scoped>\n",
       "    .dataframe tbody tr th:only-of-type {\n",
       "        vertical-align: middle;\n",
       "    }\n",
       "\n",
       "    .dataframe tbody tr th {\n",
       "        vertical-align: top;\n",
       "    }\n",
       "\n",
       "    .dataframe thead th {\n",
       "        text-align: right;\n",
       "    }\n",
       "</style>\n",
       "<table border=\"1\" class=\"dataframe\">\n",
       "  <thead>\n",
       "    <tr style=\"text-align: right;\">\n",
       "      <th></th>\n",
       "      <th>date</th>\n",
       "      <th>cy_date</th>\n",
       "      <th>year</th>\n",
       "      <th>month_name</th>\n",
       "      <th>date_yy_mmm</th>\n",
       "    </tr>\n",
       "  </thead>\n",
       "  <tbody>\n",
       "    <tr>\n",
       "      <th>0</th>\n",
       "      <td>2017-06-01</td>\n",
       "      <td>2017-06-01</td>\n",
       "      <td>2017</td>\n",
       "      <td>June</td>\n",
       "      <td>17-Jun\\r</td>\n",
       "    </tr>\n",
       "    <tr>\n",
       "      <th>1</th>\n",
       "      <td>2017-06-02</td>\n",
       "      <td>2017-06-01</td>\n",
       "      <td>2017</td>\n",
       "      <td>June</td>\n",
       "      <td>17-Jun\\r</td>\n",
       "    </tr>\n",
       "    <tr>\n",
       "      <th>2</th>\n",
       "      <td>2017-06-03</td>\n",
       "      <td>2017-06-01</td>\n",
       "      <td>2017</td>\n",
       "      <td>June</td>\n",
       "      <td>17-Jun\\r</td>\n",
       "    </tr>\n",
       "    <tr>\n",
       "      <th>3</th>\n",
       "      <td>2017-06-04</td>\n",
       "      <td>2017-06-01</td>\n",
       "      <td>2017</td>\n",
       "      <td>June</td>\n",
       "      <td>17-Jun\\r</td>\n",
       "    </tr>\n",
       "    <tr>\n",
       "      <th>4</th>\n",
       "      <td>2017-06-05</td>\n",
       "      <td>2017-06-01</td>\n",
       "      <td>2017</td>\n",
       "      <td>June</td>\n",
       "      <td>17-Jun\\r</td>\n",
       "    </tr>\n",
       "  </tbody>\n",
       "</table>\n",
       "</div>"
      ],
      "text/plain": [
       "         date     cy_date  year month_name date_yy_mmm\n",
       "0  2017-06-01  2017-06-01  2017       June    17-Jun\\r\n",
       "1  2017-06-02  2017-06-01  2017       June    17-Jun\\r\n",
       "2  2017-06-03  2017-06-01  2017       June    17-Jun\\r\n",
       "3  2017-06-04  2017-06-01  2017       June    17-Jun\\r\n",
       "4  2017-06-05  2017-06-01  2017       June    17-Jun\\r"
      ]
     },
     "metadata": {},
     "output_type": "display_data"
    },
    {
     "name": "stdout",
     "output_type": "stream",
     "text": [
      "\n",
      "Head of customer_df:\n"
     ]
    },
    {
     "data": {
      "text/html": [
       "<div>\n",
       "<style scoped>\n",
       "    .dataframe tbody tr th:only-of-type {\n",
       "        vertical-align: middle;\n",
       "    }\n",
       "\n",
       "    .dataframe tbody tr th {\n",
       "        vertical-align: top;\n",
       "    }\n",
       "\n",
       "    .dataframe thead th {\n",
       "        text-align: right;\n",
       "    }\n",
       "</style>\n",
       "<table border=\"1\" class=\"dataframe\">\n",
       "  <thead>\n",
       "    <tr style=\"text-align: right;\">\n",
       "      <th></th>\n",
       "      <th>customer_code</th>\n",
       "      <th>custmer_name</th>\n",
       "      <th>customer_type</th>\n",
       "    </tr>\n",
       "  </thead>\n",
       "  <tbody>\n",
       "    <tr>\n",
       "      <th>0</th>\n",
       "      <td>Cus001</td>\n",
       "      <td>Surge Stores</td>\n",
       "      <td>Brick &amp; Mortar</td>\n",
       "    </tr>\n",
       "    <tr>\n",
       "      <th>1</th>\n",
       "      <td>Cus002</td>\n",
       "      <td>Nomad Stores</td>\n",
       "      <td>Brick &amp; Mortar</td>\n",
       "    </tr>\n",
       "    <tr>\n",
       "      <th>2</th>\n",
       "      <td>Cus003</td>\n",
       "      <td>Excel Stores</td>\n",
       "      <td>Brick &amp; Mortar</td>\n",
       "    </tr>\n",
       "    <tr>\n",
       "      <th>3</th>\n",
       "      <td>Cus004</td>\n",
       "      <td>Surface Stores</td>\n",
       "      <td>Brick &amp; Mortar</td>\n",
       "    </tr>\n",
       "    <tr>\n",
       "      <th>4</th>\n",
       "      <td>Cus005</td>\n",
       "      <td>Premium Stores</td>\n",
       "      <td>Brick &amp; Mortar</td>\n",
       "    </tr>\n",
       "  </tbody>\n",
       "</table>\n",
       "</div>"
      ],
      "text/plain": [
       "  customer_code    custmer_name   customer_type\n",
       "0        Cus001    Surge Stores  Brick & Mortar\n",
       "1        Cus002    Nomad Stores  Brick & Mortar\n",
       "2        Cus003    Excel Stores  Brick & Mortar\n",
       "3        Cus004  Surface Stores  Brick & Mortar\n",
       "4        Cus005  Premium Stores  Brick & Mortar"
      ]
     },
     "metadata": {},
     "output_type": "display_data"
    }
   ],
   "source": [
    "import os\n",
    "import pandas as pd\n",
    "from IPython.display import display\n",
    "\n",
    "# Specify the folder path\n",
    "folder_path = r\"C:\\Users\\cmald\\Downloads\"\n",
    "\n",
    "# List of file names\n",
    "file_names = [\"markets_08032024.csv\", \"transactions_03082024.csv\", \"products_08032024.csv\", \"date_08032024.csv\", \"customer_08032024.csv\"]\n",
    "\n",
    "# Dictionary to store DataFrames\n",
    "data_frames = {}\n",
    "\n",
    "try:\n",
    "    # Loop through each file name\n",
    "    for file_name in file_names:\n",
    "        # Construct the full path to each CSV file\n",
    "        full_path = os.path.join(folder_path, file_name)\n",
    "\n",
    "        # Read the CSV file into a DataFrame and store it in the dictionary\n",
    "        df_name = file_name.split('_')[0].lower() + \"_df\"  # Extracting type (e.g., \"customer\") and creating DataFrame name\n",
    "        data_frames[df_name] = pd.read_csv(full_path)\n",
    "\n",
    "    # Display the head of each DataFrame\n",
    "    for df_name, df in data_frames.items():\n",
    "        print(f\"\\nHead of {df_name}:\")\n",
    "        display(df.head())\n",
    "\n",
    "    # Example usage:\n",
    "    # You can now access the DataFrames using their respective names\n",
    "    markets_df = data_frames['markets_df']\n",
    "    transactions_df = data_frames['transactions_df']\n",
    "    products_df = data_frames['products_df']\n",
    "    date_df = data_frames['date_df']\n",
    "    customer_df = data_frames['customer_df']\n",
    "\n",
    "except FileNotFoundError as e:\n",
    "    print(f\"Error: {e}\")\n",
    "\n",
    "except pd.errors.EmptyDataError as e:\n",
    "    print(f\"Error: {e}\")\n",
    "\n",
    "except pd.errors.ParserError as e:\n",
    "    print(f\"Error: {e}\")\n"
   ]
  },
  {
   "cell_type": "code",
   "execution_count": null,
   "id": "09cd0423-d795-4ddc-b3e8-4f3a7ba15cf2",
   "metadata": {},
   "outputs": [],
   "source": [
    "The five dataframes are:\n",
    "1) markets_df\n",
    "2) transactions_df\n",
    "3) products_df\n",
    "4) date_df\n",
    "5) customer_df"
   ]
  },
  {
   "cell_type": "code",
   "execution_count": null,
   "id": "b9e68641-149f-4b54-a3cb-018e1b609aa0",
   "metadata": {},
   "outputs": [],
   "source": [
    "Perform EDA on each of the five files"
   ]
  },
  {
   "cell_type": "code",
   "execution_count": null,
   "id": "559fc6bc-eef9-4854-b103-6bc8204bcd07",
   "metadata": {},
   "outputs": [],
   "source": [
    "######################################### Markets ###############################################"
   ]
  },
  {
   "cell_type": "code",
   "execution_count": 3,
   "id": "62fba2b0-71d8-47da-9e4c-7b7c16d8f4a1",
   "metadata": {},
   "outputs": [
    {
     "data": {
      "text/html": [
       "<div>\n",
       "<style scoped>\n",
       "    .dataframe tbody tr th:only-of-type {\n",
       "        vertical-align: middle;\n",
       "    }\n",
       "\n",
       "    .dataframe tbody tr th {\n",
       "        vertical-align: top;\n",
       "    }\n",
       "\n",
       "    .dataframe thead th {\n",
       "        text-align: right;\n",
       "    }\n",
       "</style>\n",
       "<table border=\"1\" class=\"dataframe\">\n",
       "  <thead>\n",
       "    <tr style=\"text-align: right;\">\n",
       "      <th></th>\n",
       "      <th>markets_code</th>\n",
       "      <th>markets_name</th>\n",
       "      <th>zone</th>\n",
       "    </tr>\n",
       "  </thead>\n",
       "  <tbody>\n",
       "    <tr>\n",
       "      <th>0</th>\n",
       "      <td>Mark001</td>\n",
       "      <td>Chennai</td>\n",
       "      <td>South</td>\n",
       "    </tr>\n",
       "    <tr>\n",
       "      <th>1</th>\n",
       "      <td>Mark002</td>\n",
       "      <td>Mumbai</td>\n",
       "      <td>Central</td>\n",
       "    </tr>\n",
       "    <tr>\n",
       "      <th>2</th>\n",
       "      <td>Mark003</td>\n",
       "      <td>Ahmedabad</td>\n",
       "      <td>North</td>\n",
       "    </tr>\n",
       "    <tr>\n",
       "      <th>3</th>\n",
       "      <td>Mark004</td>\n",
       "      <td>Delhi NCR</td>\n",
       "      <td>North</td>\n",
       "    </tr>\n",
       "    <tr>\n",
       "      <th>4</th>\n",
       "      <td>Mark005</td>\n",
       "      <td>Kanpur</td>\n",
       "      <td>North</td>\n",
       "    </tr>\n",
       "  </tbody>\n",
       "</table>\n",
       "</div>"
      ],
      "text/plain": [
       "  markets_code markets_name     zone\n",
       "0      Mark001      Chennai    South\n",
       "1      Mark002       Mumbai  Central\n",
       "2      Mark003    Ahmedabad    North\n",
       "3      Mark004    Delhi NCR    North\n",
       "4      Mark005       Kanpur    North"
      ]
     },
     "metadata": {},
     "output_type": "display_data"
    }
   ],
   "source": [
    "display(markets_df.head())"
   ]
  },
  {
   "cell_type": "code",
   "execution_count": 11,
   "id": "edef2dba-0ef0-406b-a697-60515bb30469",
   "metadata": {},
   "outputs": [
    {
     "name": "stdout",
     "output_type": "stream",
     "text": [
      "Summary of markets_df:\n",
      "<class 'pandas.core.frame.DataFrame'>\n",
      "Index: 15 entries, 0 to 14\n",
      "Data columns (total 3 columns):\n",
      " #   Column        Non-Null Count  Dtype \n",
      "---  ------        --------------  ----- \n",
      " 0   markets_code  15 non-null     object\n",
      " 1   markets_name  15 non-null     object\n",
      " 2   zone          15 non-null     object\n",
      "dtypes: object(3)\n",
      "memory usage: 480.0+ bytes\n"
     ]
    },
    {
     "data": {
      "text/plain": [
       "None"
      ]
     },
     "metadata": {},
     "output_type": "display_data"
    },
    {
     "name": "stdout",
     "output_type": "stream",
     "text": [
      "\n",
      "Descriptive Statistics:\n"
     ]
    },
    {
     "data": {
      "text/html": [
       "<div>\n",
       "<style scoped>\n",
       "    .dataframe tbody tr th:only-of-type {\n",
       "        vertical-align: middle;\n",
       "    }\n",
       "\n",
       "    .dataframe tbody tr th {\n",
       "        vertical-align: top;\n",
       "    }\n",
       "\n",
       "    .dataframe thead th {\n",
       "        text-align: right;\n",
       "    }\n",
       "</style>\n",
       "<table border=\"1\" class=\"dataframe\">\n",
       "  <thead>\n",
       "    <tr style=\"text-align: right;\">\n",
       "      <th></th>\n",
       "      <th>markets_code</th>\n",
       "      <th>markets_name</th>\n",
       "      <th>zone</th>\n",
       "    </tr>\n",
       "  </thead>\n",
       "  <tbody>\n",
       "    <tr>\n",
       "      <th>count</th>\n",
       "      <td>15</td>\n",
       "      <td>15</td>\n",
       "      <td>15</td>\n",
       "    </tr>\n",
       "    <tr>\n",
       "      <th>unique</th>\n",
       "      <td>15</td>\n",
       "      <td>14</td>\n",
       "      <td>3</td>\n",
       "    </tr>\n",
       "    <tr>\n",
       "      <th>top</th>\n",
       "      <td>Mark001</td>\n",
       "      <td>Bhopal</td>\n",
       "      <td>North</td>\n",
       "    </tr>\n",
       "    <tr>\n",
       "      <th>freq</th>\n",
       "      <td>1</td>\n",
       "      <td>2</td>\n",
       "      <td>6</td>\n",
       "    </tr>\n",
       "  </tbody>\n",
       "</table>\n",
       "</div>"
      ],
      "text/plain": [
       "       markets_code markets_name   zone\n",
       "count            15           15     15\n",
       "unique           15           14      3\n",
       "top         Mark001       Bhopal  North\n",
       "freq              1            2      6"
      ]
     },
     "metadata": {},
     "output_type": "display_data"
    },
    {
     "name": "stdout",
     "output_type": "stream",
     "text": [
      "\n",
      "First few rows of markets_df:\n"
     ]
    },
    {
     "data": {
      "text/html": [
       "<div>\n",
       "<style scoped>\n",
       "    .dataframe tbody tr th:only-of-type {\n",
       "        vertical-align: middle;\n",
       "    }\n",
       "\n",
       "    .dataframe tbody tr th {\n",
       "        vertical-align: top;\n",
       "    }\n",
       "\n",
       "    .dataframe thead th {\n",
       "        text-align: right;\n",
       "    }\n",
       "</style>\n",
       "<table border=\"1\" class=\"dataframe\">\n",
       "  <thead>\n",
       "    <tr style=\"text-align: right;\">\n",
       "      <th></th>\n",
       "      <th>markets_code</th>\n",
       "      <th>markets_name</th>\n",
       "      <th>zone</th>\n",
       "    </tr>\n",
       "  </thead>\n",
       "  <tbody>\n",
       "    <tr>\n",
       "      <th>0</th>\n",
       "      <td>Mark001</td>\n",
       "      <td>Chennai</td>\n",
       "      <td>South</td>\n",
       "    </tr>\n",
       "    <tr>\n",
       "      <th>1</th>\n",
       "      <td>Mark002</td>\n",
       "      <td>Mumbai</td>\n",
       "      <td>Central</td>\n",
       "    </tr>\n",
       "    <tr>\n",
       "      <th>2</th>\n",
       "      <td>Mark003</td>\n",
       "      <td>Ahmedabad</td>\n",
       "      <td>North</td>\n",
       "    </tr>\n",
       "    <tr>\n",
       "      <th>3</th>\n",
       "      <td>Mark004</td>\n",
       "      <td>Delhi NCR</td>\n",
       "      <td>North</td>\n",
       "    </tr>\n",
       "    <tr>\n",
       "      <th>4</th>\n",
       "      <td>Mark005</td>\n",
       "      <td>Kanpur</td>\n",
       "      <td>North</td>\n",
       "    </tr>\n",
       "  </tbody>\n",
       "</table>\n",
       "</div>"
      ],
      "text/plain": [
       "  markets_code markets_name     zone\n",
       "0      Mark001      Chennai    South\n",
       "1      Mark002       Mumbai  Central\n",
       "2      Mark003    Ahmedabad    North\n",
       "3      Mark004    Delhi NCR    North\n",
       "4      Mark005       Kanpur    North"
      ]
     },
     "metadata": {},
     "output_type": "display_data"
    },
    {
     "name": "stdout",
     "output_type": "stream",
     "text": [
      "\n",
      "Missing Values:\n"
     ]
    },
    {
     "data": {
      "text/plain": [
       "markets_code    0\n",
       "markets_name    0\n",
       "zone            0\n",
       "dtype: int64"
      ]
     },
     "metadata": {},
     "output_type": "display_data"
    },
    {
     "name": "stdout",
     "output_type": "stream",
     "text": [
      "\n",
      "Unique values in 'zone' column:\n"
     ]
    },
    {
     "data": {
      "text/plain": [
       "array(['South', 'Central', 'North'], dtype=object)"
      ]
     },
     "metadata": {},
     "output_type": "display_data"
    },
    {
     "name": "stdout",
     "output_type": "stream",
     "text": [
      "\n",
      "Value counts for 'zone' column:\n"
     ]
    },
    {
     "data": {
      "text/plain": [
       "zone\n",
       "North      6\n",
       "South      5\n",
       "Central    4\n",
       "Name: count, dtype: int64"
      ]
     },
     "metadata": {},
     "output_type": "display_data"
    }
   ],
   "source": [
    "from IPython.display import display\n",
    "\n",
    "# Display basic information about the DataFrame\n",
    "print(\"Summary of markets_df:\")\n",
    "display(markets_df.info())\n",
    "\n",
    "# Display descriptive statistics of numerical columns\n",
    "print(\"\\nDescriptive Statistics:\")\n",
    "display(markets_df.describe())\n",
    "\n",
    "# Display the first few rows of the DataFrame\n",
    "print(\"\\nFirst few rows of markets_df:\")\n",
    "display(markets_df.head())\n",
    "\n",
    "# Check for missing values\n",
    "print(\"\\nMissing Values:\")\n",
    "display(markets_df.isnull().sum())\n",
    "\n",
    "# Unique values in 'zone' column\n",
    "print(\"\\nUnique values in 'zone' column:\")\n",
    "display(markets_df['zone'].unique())\n",
    "\n",
    "# Value counts for 'zone' column\n",
    "print(\"\\nValue counts for 'zone' column:\")\n",
    "display(markets_df['zone'].value_counts())\n"
   ]
  },
  {
   "cell_type": "code",
   "execution_count": null,
   "id": "0e75edb9-f9b2-423c-8fb5-b79bd1a515e1",
   "metadata": {},
   "outputs": [],
   "source": [
    "In the ZONE column there are null values, hence removing the rows which have null values"
   ]
  },
  {
   "cell_type": "code",
   "execution_count": 5,
   "id": "ab23eb3c-1b35-45f9-9444-82d3973ac464",
   "metadata": {},
   "outputs": [
    {
     "name": "stdout",
     "output_type": "stream",
     "text": [
      "\n",
      "First few rows of markets_df after removing NaN values:\n",
      "  markets_code markets_name     zone\n",
      "0      Mark001      Chennai    South\n",
      "1      Mark002       Mumbai  Central\n",
      "2      Mark003    Ahmedabad    North\n",
      "3      Mark004    Delhi NCR    North\n",
      "4      Mark005       Kanpur    North\n"
     ]
    }
   ],
   "source": [
    "# Drop rows with NaN values in the 'zone' column\n",
    "markets_df = markets_df.dropna(subset=['zone'])\n",
    "\n",
    "# Display the first few rows of the DataFrame after removing NaN values\n",
    "print(\"\\nFirst few rows of markets_df after removing NaN values:\")\n",
    "print(markets_df.head())\n"
   ]
  },
  {
   "cell_type": "code",
   "execution_count": 20,
   "id": "3e64aeac-3a1e-47be-b40d-ff3a78c94f85",
   "metadata": {},
   "outputs": [
    {
     "name": "stdout",
     "output_type": "stream",
     "text": [
      "Dataframe has been saved to C:\\Users\\cmald\\Desktop\\ETL-Project\\transformed_op\\markets_transformed.csv\n"
     ]
    }
   ],
   "source": [
    "import pandas as pd\n",
    "\n",
    "# Specify the path where you want to save the CSV file\n",
    "csv_path = r'C:\\Users\\cmald\\Desktop\\ETL-Project\\transformed_op\\markets_transformed.csv'\n",
    "\n",
    "# Use the to_csv method to save the dataframe to a CSV file\n",
    "markets_df.to_csv(csv_path, index=False)\n",
    "\n",
    "# Print a message to confirm the operation\n",
    "print(f'Dataframe has been saved to {csv_path}')\n"
   ]
  },
  {
   "cell_type": "code",
   "execution_count": null,
   "id": "18f02775-59fd-4135-9d29-2fb908ecf982",
   "metadata": {},
   "outputs": [],
   "source": [
    "########################################## Transactions ############################################"
   ]
  },
  {
   "cell_type": "code",
   "execution_count": 7,
   "id": "39495983-ab41-4c52-bfcf-b65a2002552a",
   "metadata": {},
   "outputs": [
    {
     "data": {
      "text/html": [
       "<div>\n",
       "<style scoped>\n",
       "    .dataframe tbody tr th:only-of-type {\n",
       "        vertical-align: middle;\n",
       "    }\n",
       "\n",
       "    .dataframe tbody tr th {\n",
       "        vertical-align: top;\n",
       "    }\n",
       "\n",
       "    .dataframe thead th {\n",
       "        text-align: right;\n",
       "    }\n",
       "</style>\n",
       "<table border=\"1\" class=\"dataframe\">\n",
       "  <thead>\n",
       "    <tr style=\"text-align: right;\">\n",
       "      <th></th>\n",
       "      <th>product_code</th>\n",
       "      <th>customer_code</th>\n",
       "      <th>market_code</th>\n",
       "      <th>order_date</th>\n",
       "      <th>sales_qty</th>\n",
       "      <th>sales_amount</th>\n",
       "      <th>currency</th>\n",
       "    </tr>\n",
       "  </thead>\n",
       "  <tbody>\n",
       "    <tr>\n",
       "      <th>0</th>\n",
       "      <td>Prod001</td>\n",
       "      <td>Cus001</td>\n",
       "      <td>Mark001</td>\n",
       "      <td>2017-10-10</td>\n",
       "      <td>100.0</td>\n",
       "      <td>41241.0</td>\n",
       "      <td>INR</td>\n",
       "    </tr>\n",
       "    <tr>\n",
       "      <th>1</th>\n",
       "      <td>Prod001</td>\n",
       "      <td>Cus002</td>\n",
       "      <td>Mark002</td>\n",
       "      <td>2018-05-08</td>\n",
       "      <td>3.0</td>\n",
       "      <td>-1.0</td>\n",
       "      <td>INR</td>\n",
       "    </tr>\n",
       "    <tr>\n",
       "      <th>2</th>\n",
       "      <td>Prod002</td>\n",
       "      <td>Cus003</td>\n",
       "      <td>Mark003</td>\n",
       "      <td>2018-04-06</td>\n",
       "      <td>1.0</td>\n",
       "      <td>875.0</td>\n",
       "      <td>INR</td>\n",
       "    </tr>\n",
       "    <tr>\n",
       "      <th>3</th>\n",
       "      <td>Prod002</td>\n",
       "      <td>Cus003</td>\n",
       "      <td>Mark003</td>\n",
       "      <td>2018-04-11</td>\n",
       "      <td>1.0</td>\n",
       "      <td>583.0</td>\n",
       "      <td>INR</td>\n",
       "    </tr>\n",
       "    <tr>\n",
       "      <th>4</th>\n",
       "      <td>Prod002</td>\n",
       "      <td>Cus004</td>\n",
       "      <td>Mark003</td>\n",
       "      <td>2018-06-18</td>\n",
       "      <td>6.0</td>\n",
       "      <td>7176.0</td>\n",
       "      <td>INR</td>\n",
       "    </tr>\n",
       "  </tbody>\n",
       "</table>\n",
       "</div>"
      ],
      "text/plain": [
       "  product_code customer_code market_code  order_date  sales_qty  sales_amount  \\\n",
       "0      Prod001        Cus001     Mark001  2017-10-10      100.0       41241.0   \n",
       "1      Prod001        Cus002     Mark002  2018-05-08        3.0          -1.0   \n",
       "2      Prod002        Cus003     Mark003  2018-04-06        1.0         875.0   \n",
       "3      Prod002        Cus003     Mark003  2018-04-11        1.0         583.0   \n",
       "4      Prod002        Cus004     Mark003  2018-06-18        6.0        7176.0   \n",
       "\n",
       "  currency  \n",
       "0      INR  \n",
       "1      INR  \n",
       "2      INR  \n",
       "3      INR  \n",
       "4      INR  "
      ]
     },
     "metadata": {},
     "output_type": "display_data"
    }
   ],
   "source": [
    "display(transactions_df.head())"
   ]
  },
  {
   "cell_type": "code",
   "execution_count": 10,
   "id": "dacdf0a9-ee01-4ba9-b784-200e4ef0eda8",
   "metadata": {},
   "outputs": [
    {
     "name": "stdout",
     "output_type": "stream",
     "text": [
      "Cleaned transactions_df:\n"
     ]
    },
    {
     "data": {
      "text/html": [
       "<div>\n",
       "<style scoped>\n",
       "    .dataframe tbody tr th:only-of-type {\n",
       "        vertical-align: middle;\n",
       "    }\n",
       "\n",
       "    .dataframe tbody tr th {\n",
       "        vertical-align: top;\n",
       "    }\n",
       "\n",
       "    .dataframe thead th {\n",
       "        text-align: right;\n",
       "    }\n",
       "</style>\n",
       "<table border=\"1\" class=\"dataframe\">\n",
       "  <thead>\n",
       "    <tr style=\"text-align: right;\">\n",
       "      <th></th>\n",
       "      <th>product_code</th>\n",
       "      <th>customer_code</th>\n",
       "      <th>market_code</th>\n",
       "      <th>order_date</th>\n",
       "      <th>sales_qty</th>\n",
       "      <th>sales_amount</th>\n",
       "      <th>currency</th>\n",
       "    </tr>\n",
       "  </thead>\n",
       "  <tbody>\n",
       "    <tr>\n",
       "      <th>0</th>\n",
       "      <td>Prod001</td>\n",
       "      <td>Cus001</td>\n",
       "      <td>Mark001</td>\n",
       "      <td>2017-10-10</td>\n",
       "      <td>100.0</td>\n",
       "      <td>41241.0</td>\n",
       "      <td>INR</td>\n",
       "    </tr>\n",
       "    <tr>\n",
       "      <th>1</th>\n",
       "      <td>Prod001</td>\n",
       "      <td>Cus002</td>\n",
       "      <td>Mark002</td>\n",
       "      <td>2018-05-08</td>\n",
       "      <td>3.0</td>\n",
       "      <td>-1.0</td>\n",
       "      <td>INR</td>\n",
       "    </tr>\n",
       "    <tr>\n",
       "      <th>2</th>\n",
       "      <td>Prod002</td>\n",
       "      <td>Cus003</td>\n",
       "      <td>Mark003</td>\n",
       "      <td>2018-04-06</td>\n",
       "      <td>1.0</td>\n",
       "      <td>875.0</td>\n",
       "      <td>INR</td>\n",
       "    </tr>\n",
       "    <tr>\n",
       "      <th>3</th>\n",
       "      <td>Prod002</td>\n",
       "      <td>Cus003</td>\n",
       "      <td>Mark003</td>\n",
       "      <td>2018-04-11</td>\n",
       "      <td>1.0</td>\n",
       "      <td>583.0</td>\n",
       "      <td>INR</td>\n",
       "    </tr>\n",
       "    <tr>\n",
       "      <th>4</th>\n",
       "      <td>Prod002</td>\n",
       "      <td>Cus004</td>\n",
       "      <td>Mark003</td>\n",
       "      <td>2018-06-18</td>\n",
       "      <td>6.0</td>\n",
       "      <td>7176.0</td>\n",
       "      <td>INR</td>\n",
       "    </tr>\n",
       "  </tbody>\n",
       "</table>\n",
       "</div>"
      ],
      "text/plain": [
       "  product_code customer_code market_code order_date  sales_qty  sales_amount  \\\n",
       "0      Prod001        Cus001     Mark001 2017-10-10      100.0       41241.0   \n",
       "1      Prod001        Cus002     Mark002 2018-05-08        3.0          -1.0   \n",
       "2      Prod002        Cus003     Mark003 2018-04-06        1.0         875.0   \n",
       "3      Prod002        Cus003     Mark003 2018-04-11        1.0         583.0   \n",
       "4      Prod002        Cus004     Mark003 2018-06-18        6.0        7176.0   \n",
       "\n",
       "  currency  \n",
       "0      INR  \n",
       "1      INR  \n",
       "2      INR  \n",
       "3      INR  \n",
       "4      INR  "
      ]
     },
     "metadata": {},
     "output_type": "display_data"
    }
   ],
   "source": [
    "import pandas as pd\n",
    "\n",
    "# Remove rows with missing values\n",
    "transactions_df = transactions_df.dropna()\n",
    "\n",
    "# Remove trailing '\\r' from the 'currency' column\n",
    "transactions_df['currency'] = transactions_df['currency'].str.strip()\n",
    "\n",
    "# Convert 'order_date' to datetime format\n",
    "transactions_df['order_date'] = pd.to_datetime(transactions_df['order_date'], errors='coerce')\n",
    "\n",
    "# Remove rows with NaN values in 'order_date'\n",
    "transactions_df = transactions_df.dropna(subset=['order_date'])\n",
    "\n",
    "# Display the cleaned DataFrame\n",
    "print(\"Cleaned transactions_df:\")\n",
    "display(transactions_df.head())\n"
   ]
  },
  {
   "cell_type": "code",
   "execution_count": 21,
   "id": "e350ebdf-c242-4f76-a5d4-e4f7d6d03e31",
   "metadata": {},
   "outputs": [
    {
     "name": "stdout",
     "output_type": "stream",
     "text": [
      "Dataframe has been saved to C:\\Users\\cmald\\Desktop\\ETL-Project\\transformed_op\\transactions_transformed.csv\n"
     ]
    }
   ],
   "source": [
    "import pandas as pd\n",
    "\n",
    "# Specify the path where you want to save the CSV file\n",
    "csv_path = r'C:\\Users\\cmald\\Desktop\\ETL-Project\\transformed_op\\transactions_transformed.csv'\n",
    "\n",
    "# Use the to_csv method to save the dataframe to a CSV file\n",
    "transactions_df.to_csv(csv_path, index=False)\n",
    "\n",
    "# Print a message to confirm the operation\n",
    "print(f'Dataframe has been saved to {csv_path}')"
   ]
  },
  {
   "cell_type": "code",
   "execution_count": null,
   "id": "2130a1a2-b024-4eae-b86f-a3dd02097099",
   "metadata": {},
   "outputs": [],
   "source": [
    "########################################## Products ############################################"
   ]
  },
  {
   "cell_type": "code",
   "execution_count": 14,
   "id": "30a80a05-a57c-44e6-8504-69bdfccb1da2",
   "metadata": {},
   "outputs": [
    {
     "data": {
      "text/html": [
       "<div>\n",
       "<style scoped>\n",
       "    .dataframe tbody tr th:only-of-type {\n",
       "        vertical-align: middle;\n",
       "    }\n",
       "\n",
       "    .dataframe tbody tr th {\n",
       "        vertical-align: top;\n",
       "    }\n",
       "\n",
       "    .dataframe thead th {\n",
       "        text-align: right;\n",
       "    }\n",
       "</style>\n",
       "<table border=\"1\" class=\"dataframe\">\n",
       "  <thead>\n",
       "    <tr style=\"text-align: right;\">\n",
       "      <th></th>\n",
       "      <th>product_code</th>\n",
       "      <th>product_type</th>\n",
       "    </tr>\n",
       "  </thead>\n",
       "  <tbody>\n",
       "    <tr>\n",
       "      <th>0</th>\n",
       "      <td>Prod001</td>\n",
       "      <td>Own Brand</td>\n",
       "    </tr>\n",
       "    <tr>\n",
       "      <th>1</th>\n",
       "      <td>Prod002</td>\n",
       "      <td>Own Brand</td>\n",
       "    </tr>\n",
       "    <tr>\n",
       "      <th>2</th>\n",
       "      <td>Prod003</td>\n",
       "      <td>Own Brand</td>\n",
       "    </tr>\n",
       "    <tr>\n",
       "      <th>3</th>\n",
       "      <td>Prod004</td>\n",
       "      <td>Own Brand</td>\n",
       "    </tr>\n",
       "    <tr>\n",
       "      <th>4</th>\n",
       "      <td>Prod005</td>\n",
       "      <td>Own Brand</td>\n",
       "    </tr>\n",
       "  </tbody>\n",
       "</table>\n",
       "</div>"
      ],
      "text/plain": [
       "  product_code product_type\n",
       "0      Prod001    Own Brand\n",
       "1      Prod002    Own Brand\n",
       "2      Prod003    Own Brand\n",
       "3      Prod004    Own Brand\n",
       "4      Prod005    Own Brand"
      ]
     },
     "metadata": {},
     "output_type": "display_data"
    }
   ],
   "source": [
    "display(products_df.head())"
   ]
  },
  {
   "cell_type": "code",
   "execution_count": 13,
   "id": "024650ee-ad3d-4db8-bb66-6e2f670678ea",
   "metadata": {},
   "outputs": [
    {
     "name": "stdout",
     "output_type": "stream",
     "text": [
      "\n",
      "First few rows of products_df after cleaning:\n"
     ]
    },
    {
     "data": {
      "text/html": [
       "<div>\n",
       "<style scoped>\n",
       "    .dataframe tbody tr th:only-of-type {\n",
       "        vertical-align: middle;\n",
       "    }\n",
       "\n",
       "    .dataframe tbody tr th {\n",
       "        vertical-align: top;\n",
       "    }\n",
       "\n",
       "    .dataframe thead th {\n",
       "        text-align: right;\n",
       "    }\n",
       "</style>\n",
       "<table border=\"1\" class=\"dataframe\">\n",
       "  <thead>\n",
       "    <tr style=\"text-align: right;\">\n",
       "      <th></th>\n",
       "      <th>product_code</th>\n",
       "      <th>product_type</th>\n",
       "    </tr>\n",
       "  </thead>\n",
       "  <tbody>\n",
       "    <tr>\n",
       "      <th>0</th>\n",
       "      <td>Prod001</td>\n",
       "      <td>Own Brand</td>\n",
       "    </tr>\n",
       "    <tr>\n",
       "      <th>1</th>\n",
       "      <td>Prod002</td>\n",
       "      <td>Own Brand</td>\n",
       "    </tr>\n",
       "    <tr>\n",
       "      <th>2</th>\n",
       "      <td>Prod003</td>\n",
       "      <td>Own Brand</td>\n",
       "    </tr>\n",
       "    <tr>\n",
       "      <th>3</th>\n",
       "      <td>Prod004</td>\n",
       "      <td>Own Brand</td>\n",
       "    </tr>\n",
       "    <tr>\n",
       "      <th>4</th>\n",
       "      <td>Prod005</td>\n",
       "      <td>Own Brand</td>\n",
       "    </tr>\n",
       "  </tbody>\n",
       "</table>\n",
       "</div>"
      ],
      "text/plain": [
       "  product_code product_type\n",
       "0      Prod001    Own Brand\n",
       "1      Prod002    Own Brand\n",
       "2      Prod003    Own Brand\n",
       "3      Prod004    Own Brand\n",
       "4      Prod005    Own Brand"
      ]
     },
     "metadata": {},
     "output_type": "display_data"
    }
   ],
   "source": [
    "# Remove trailing '\\r' from the 'product_type' column\n",
    "products_df['product_type'] = products_df['product_type'].str.strip()\n",
    "\n",
    "# Display the first few rows of the DataFrame after cleaning\n",
    "print(\"\\nFirst few rows of products_df after cleaning:\")\n",
    "display(products_df.head())\n"
   ]
  },
  {
   "cell_type": "code",
   "execution_count": 22,
   "id": "46eeff56-6ebe-4e80-a9c6-f33c4b3c0fbf",
   "metadata": {},
   "outputs": [
    {
     "name": "stdout",
     "output_type": "stream",
     "text": [
      "Dataframe has been saved to C:\\Users\\cmald\\Desktop\\ETL-Project\\transformed_op\\products_transformed.csv\n"
     ]
    }
   ],
   "source": [
    "import pandas as pd\n",
    "\n",
    "# Specify the path where you want to save the CSV file\n",
    "csv_path = r'C:\\Users\\cmald\\Desktop\\ETL-Project\\transformed_op\\products_transformed.csv'\n",
    "\n",
    "# Use the to_csv method to save the dataframe to a CSV file\n",
    "transactions_df.to_csv(csv_path, index=False)\n",
    "\n",
    "# Print a message to confirm the operation\n",
    "print(f'Dataframe has been saved to {csv_path}')"
   ]
  },
  {
   "cell_type": "code",
   "execution_count": null,
   "id": "d9931c79-a059-4a5f-a15e-9376dccb97cf",
   "metadata": {},
   "outputs": [],
   "source": [
    "########################################## date_df ############################################"
   ]
  },
  {
   "cell_type": "code",
   "execution_count": 15,
   "id": "43566aa6-4238-4965-8d1a-fe690be76722",
   "metadata": {},
   "outputs": [
    {
     "data": {
      "text/html": [
       "<div>\n",
       "<style scoped>\n",
       "    .dataframe tbody tr th:only-of-type {\n",
       "        vertical-align: middle;\n",
       "    }\n",
       "\n",
       "    .dataframe tbody tr th {\n",
       "        vertical-align: top;\n",
       "    }\n",
       "\n",
       "    .dataframe thead th {\n",
       "        text-align: right;\n",
       "    }\n",
       "</style>\n",
       "<table border=\"1\" class=\"dataframe\">\n",
       "  <thead>\n",
       "    <tr style=\"text-align: right;\">\n",
       "      <th></th>\n",
       "      <th>date</th>\n",
       "      <th>cy_date</th>\n",
       "      <th>year</th>\n",
       "      <th>month_name</th>\n",
       "      <th>date_yy_mmm</th>\n",
       "    </tr>\n",
       "  </thead>\n",
       "  <tbody>\n",
       "    <tr>\n",
       "      <th>0</th>\n",
       "      <td>2017-06-01</td>\n",
       "      <td>2017-06-01</td>\n",
       "      <td>2017</td>\n",
       "      <td>June</td>\n",
       "      <td>17-Jun\\r</td>\n",
       "    </tr>\n",
       "    <tr>\n",
       "      <th>1</th>\n",
       "      <td>2017-06-02</td>\n",
       "      <td>2017-06-01</td>\n",
       "      <td>2017</td>\n",
       "      <td>June</td>\n",
       "      <td>17-Jun\\r</td>\n",
       "    </tr>\n",
       "    <tr>\n",
       "      <th>2</th>\n",
       "      <td>2017-06-03</td>\n",
       "      <td>2017-06-01</td>\n",
       "      <td>2017</td>\n",
       "      <td>June</td>\n",
       "      <td>17-Jun\\r</td>\n",
       "    </tr>\n",
       "    <tr>\n",
       "      <th>3</th>\n",
       "      <td>2017-06-04</td>\n",
       "      <td>2017-06-01</td>\n",
       "      <td>2017</td>\n",
       "      <td>June</td>\n",
       "      <td>17-Jun\\r</td>\n",
       "    </tr>\n",
       "    <tr>\n",
       "      <th>4</th>\n",
       "      <td>2017-06-05</td>\n",
       "      <td>2017-06-01</td>\n",
       "      <td>2017</td>\n",
       "      <td>June</td>\n",
       "      <td>17-Jun\\r</td>\n",
       "    </tr>\n",
       "  </tbody>\n",
       "</table>\n",
       "</div>"
      ],
      "text/plain": [
       "         date     cy_date  year month_name date_yy_mmm\n",
       "0  2017-06-01  2017-06-01  2017       June    17-Jun\\r\n",
       "1  2017-06-02  2017-06-01  2017       June    17-Jun\\r\n",
       "2  2017-06-03  2017-06-01  2017       June    17-Jun\\r\n",
       "3  2017-06-04  2017-06-01  2017       June    17-Jun\\r\n",
       "4  2017-06-05  2017-06-01  2017       June    17-Jun\\r"
      ]
     },
     "metadata": {},
     "output_type": "display_data"
    }
   ],
   "source": [
    "display(date_df.head())"
   ]
  },
  {
   "cell_type": "code",
   "execution_count": 17,
   "id": "d960635a-bd58-49e5-a0b9-82afe8fe8caa",
   "metadata": {},
   "outputs": [
    {
     "name": "stdout",
     "output_type": "stream",
     "text": [
      "Summary of date_df:\n",
      "<class 'pandas.core.frame.DataFrame'>\n",
      "RangeIndex: 1126 entries, 0 to 1125\n",
      "Data columns (total 5 columns):\n",
      " #   Column       Non-Null Count  Dtype \n",
      "---  ------       --------------  ----- \n",
      " 0   full_date    1126 non-null   object\n",
      " 1   cy_date      1126 non-null   object\n",
      " 2   year         1126 non-null   int64 \n",
      " 3   month_name   1126 non-null   object\n",
      " 4   date_yy_mmm  1126 non-null   object\n",
      "dtypes: int64(1), object(4)\n",
      "memory usage: 44.1+ KB\n"
     ]
    },
    {
     "data": {
      "text/plain": [
       "None"
      ]
     },
     "metadata": {},
     "output_type": "display_data"
    },
    {
     "name": "stdout",
     "output_type": "stream",
     "text": [
      "\n",
      "Unique values in 'year' column:\n"
     ]
    },
    {
     "data": {
      "text/plain": [
       "array([2017, 2018, 2019, 2020], dtype=int64)"
      ]
     },
     "metadata": {},
     "output_type": "display_data"
    },
    {
     "name": "stdout",
     "output_type": "stream",
     "text": [
      "\n",
      "Value counts for 'year' column:\n"
     ]
    },
    {
     "data": {
      "text/plain": [
       "year\n",
       "2018    365\n",
       "2019    365\n",
       "2017    214\n",
       "2020    182\n",
       "Name: count, dtype: int64"
      ]
     },
     "metadata": {},
     "output_type": "display_data"
    },
    {
     "name": "stdout",
     "output_type": "stream",
     "text": [
      "\n",
      "Unique values in 'month_name' column:\n"
     ]
    },
    {
     "data": {
      "text/plain": [
       "array(['June', 'July', 'August', 'September', 'October', 'November',\n",
       "       'December', 'January', 'February', 'March', 'April', 'May'],\n",
       "      dtype=object)"
      ]
     },
     "metadata": {},
     "output_type": "display_data"
    },
    {
     "name": "stdout",
     "output_type": "stream",
     "text": [
      "\n",
      "Value counts for 'month_name' column:\n"
     ]
    },
    {
     "data": {
      "text/plain": [
       "month_name\n",
       "June         120\n",
       "July          93\n",
       "August        93\n",
       "October       93\n",
       "December      93\n",
       "January       93\n",
       "March         93\n",
       "May           93\n",
       "September     90\n",
       "November      90\n",
       "April         90\n",
       "February      85\n",
       "Name: count, dtype: int64"
      ]
     },
     "metadata": {},
     "output_type": "display_data"
    },
    {
     "name": "stdout",
     "output_type": "stream",
     "text": [
      "\n",
      "Missing Values:\n"
     ]
    },
    {
     "data": {
      "text/plain": [
       "full_date      0\n",
       "cy_date        0\n",
       "year           0\n",
       "month_name     0\n",
       "date_yy_mmm    0\n",
       "dtype: int64"
      ]
     },
     "metadata": {},
     "output_type": "display_data"
    }
   ],
   "source": [
    "import pandas as pd\n",
    "import matplotlib.pyplot as plt\n",
    "import seaborn as sns\n",
    "from IPython.display import display\n",
    "\n",
    "# Rename columns in proper order\n",
    "date_df = date_df.rename(columns={'date': 'full_date', 'cy_date': 'cy_date', 'year': 'year', 'month_name': 'month_name', 'date_yy_mmm': 'date_yy_mmm'})\n",
    "\n",
    "# Display basic information about the DataFrame\n",
    "print(\"Summary of date_df:\")\n",
    "display(date_df.info())\n",
    "\n",
    "# Check for unique values and value counts in 'year' and 'month_name' columns\n",
    "print(\"\\nUnique values in 'year' column:\")\n",
    "display(date_df['year'].unique())\n",
    "\n",
    "print(\"\\nValue counts for 'year' column:\")\n",
    "display(date_df['year'].value_counts())\n",
    "\n",
    "print(\"\\nUnique values in 'month_name' column:\")\n",
    "display(date_df['month_name'].unique())\n",
    "\n",
    "print(\"\\nValue counts for 'month_name' column:\")\n",
    "display(date_df['month_name'].value_counts())\n",
    "\n",
    "# Check for missing values\n",
    "print(\"\\nMissing Values:\")\n",
    "display(date_df.isnull().sum())\n"
   ]
  },
  {
   "cell_type": "code",
   "execution_count": 23,
   "id": "912c4362-66b6-4b10-89ab-66eb4e07bd03",
   "metadata": {},
   "outputs": [
    {
     "name": "stdout",
     "output_type": "stream",
     "text": [
      "Dataframe has been saved to C:\\Users\\cmald\\Desktop\\ETL-Project\\transformed_op\\date_transformed.csv\n"
     ]
    }
   ],
   "source": [
    "import pandas as pd\n",
    "\n",
    "# Specify the path where you want to save the CSV file\n",
    "csv_path = r'C:\\Users\\cmald\\Desktop\\ETL-Project\\transformed_op\\date_transformed.csv'\n",
    "\n",
    "# Use the to_csv method to save the dataframe to a CSV file\n",
    "date_df.to_csv(csv_path, index=False)\n",
    "\n",
    "# Print a message to confirm the operation\n",
    "print(f'Dataframe has been saved to {csv_path}')"
   ]
  },
  {
   "cell_type": "code",
   "execution_count": null,
   "id": "b84f480b-5c89-45f7-a0c8-c4faca505269",
   "metadata": {},
   "outputs": [],
   "source": [
    "########################################## customer_df ############################################"
   ]
  },
  {
   "cell_type": "code",
   "execution_count": 18,
   "id": "a1d96df5-fe0b-4e54-8a82-75bec802ae3f",
   "metadata": {},
   "outputs": [
    {
     "data": {
      "text/html": [
       "<div>\n",
       "<style scoped>\n",
       "    .dataframe tbody tr th:only-of-type {\n",
       "        vertical-align: middle;\n",
       "    }\n",
       "\n",
       "    .dataframe tbody tr th {\n",
       "        vertical-align: top;\n",
       "    }\n",
       "\n",
       "    .dataframe thead th {\n",
       "        text-align: right;\n",
       "    }\n",
       "</style>\n",
       "<table border=\"1\" class=\"dataframe\">\n",
       "  <thead>\n",
       "    <tr style=\"text-align: right;\">\n",
       "      <th></th>\n",
       "      <th>customer_code</th>\n",
       "      <th>custmer_name</th>\n",
       "      <th>customer_type</th>\n",
       "    </tr>\n",
       "  </thead>\n",
       "  <tbody>\n",
       "    <tr>\n",
       "      <th>0</th>\n",
       "      <td>Cus001</td>\n",
       "      <td>Surge Stores</td>\n",
       "      <td>Brick &amp; Mortar</td>\n",
       "    </tr>\n",
       "    <tr>\n",
       "      <th>1</th>\n",
       "      <td>Cus002</td>\n",
       "      <td>Nomad Stores</td>\n",
       "      <td>Brick &amp; Mortar</td>\n",
       "    </tr>\n",
       "    <tr>\n",
       "      <th>2</th>\n",
       "      <td>Cus003</td>\n",
       "      <td>Excel Stores</td>\n",
       "      <td>Brick &amp; Mortar</td>\n",
       "    </tr>\n",
       "    <tr>\n",
       "      <th>3</th>\n",
       "      <td>Cus004</td>\n",
       "      <td>Surface Stores</td>\n",
       "      <td>Brick &amp; Mortar</td>\n",
       "    </tr>\n",
       "    <tr>\n",
       "      <th>4</th>\n",
       "      <td>Cus005</td>\n",
       "      <td>Premium Stores</td>\n",
       "      <td>Brick &amp; Mortar</td>\n",
       "    </tr>\n",
       "  </tbody>\n",
       "</table>\n",
       "</div>"
      ],
      "text/plain": [
       "  customer_code    custmer_name   customer_type\n",
       "0        Cus001    Surge Stores  Brick & Mortar\n",
       "1        Cus002    Nomad Stores  Brick & Mortar\n",
       "2        Cus003    Excel Stores  Brick & Mortar\n",
       "3        Cus004  Surface Stores  Brick & Mortar\n",
       "4        Cus005  Premium Stores  Brick & Mortar"
      ]
     },
     "metadata": {},
     "output_type": "display_data"
    }
   ],
   "source": [
    "display(customer_df.head())"
   ]
  },
  {
   "cell_type": "code",
   "execution_count": 19,
   "id": "cc320aeb-6fc4-4264-9608-9b84ecf962a3",
   "metadata": {},
   "outputs": [
    {
     "name": "stdout",
     "output_type": "stream",
     "text": [
      "Summary of customer_df:\n",
      "<class 'pandas.core.frame.DataFrame'>\n",
      "RangeIndex: 38 entries, 0 to 37\n",
      "Data columns (total 3 columns):\n",
      " #   Column         Non-Null Count  Dtype \n",
      "---  ------         --------------  ----- \n",
      " 0   customer_code  38 non-null     object\n",
      " 1   customer_name  38 non-null     object\n",
      " 2   customer_type  38 non-null     object\n",
      "dtypes: object(3)\n",
      "memory usage: 1.0+ KB\n"
     ]
    },
    {
     "data": {
      "text/plain": [
       "None"
      ]
     },
     "metadata": {},
     "output_type": "display_data"
    },
    {
     "name": "stdout",
     "output_type": "stream",
     "text": [
      "\n",
      "Unique values in 'customer_type' column:\n"
     ]
    },
    {
     "data": {
      "text/plain": [
       "array(['Brick & Mortar', 'E-Commerce'], dtype=object)"
      ]
     },
     "metadata": {},
     "output_type": "display_data"
    },
    {
     "name": "stdout",
     "output_type": "stream",
     "text": [
      "\n",
      "Value counts for 'customer_type' column:\n"
     ]
    },
    {
     "data": {
      "text/plain": [
       "customer_type\n",
       "Brick & Mortar    19\n",
       "E-Commerce        19\n",
       "Name: count, dtype: int64"
      ]
     },
     "metadata": {},
     "output_type": "display_data"
    },
    {
     "name": "stdout",
     "output_type": "stream",
     "text": [
      "\n",
      "Missing Values:\n"
     ]
    },
    {
     "data": {
      "text/plain": [
       "customer_code    0\n",
       "customer_name    0\n",
       "customer_type    0\n",
       "dtype: int64"
      ]
     },
     "metadata": {},
     "output_type": "display_data"
    }
   ],
   "source": [
    "import pandas as pd\n",
    "import seaborn as sns\n",
    "import matplotlib.pyplot as plt\n",
    "from IPython.display import display\n",
    "\n",
    "# Assuming you have already loaded the 'customer_df' DataFrame\n",
    "\n",
    "# Rename columns in proper order\n",
    "customer_df = customer_df.rename(columns={'customer_code': 'customer_code', 'custmer_name': 'customer_name', 'customer_type': 'customer_type'})\n",
    "\n",
    "# Display basic information about the DataFrame\n",
    "print(\"Summary of customer_df:\")\n",
    "display(customer_df.info())\n",
    "\n",
    "# Check for unique values and value counts in 'customer_type' column\n",
    "print(\"\\nUnique values in 'customer_type' column:\")\n",
    "display(customer_df['customer_type'].unique())\n",
    "\n",
    "print(\"\\nValue counts for 'customer_type' column:\")\n",
    "display(customer_df['customer_type'].value_counts())\n",
    "\n",
    "# Check for missing values\n",
    "print(\"\\nMissing Values:\")\n",
    "display(customer_df.isnull().sum())\n"
   ]
  },
  {
   "cell_type": "code",
   "execution_count": 24,
   "id": "7902432b-2551-4029-8518-7754f1538bca",
   "metadata": {},
   "outputs": [
    {
     "name": "stdout",
     "output_type": "stream",
     "text": [
      "Dataframe has been saved to C:\\Users\\cmald\\Desktop\\ETL-Project\\transformed_op\\customer_transformed.csv\n"
     ]
    }
   ],
   "source": [
    "import pandas as pd\n",
    "\n",
    "# Specify the path where you want to save the CSV file\n",
    "csv_path = r'C:\\Users\\cmald\\Desktop\\ETL-Project\\transformed_op\\customer_transformed.csv'\n",
    "\n",
    "# Use the to_csv method to save the dataframe to a CSV file\n",
    "customer_df.to_csv(csv_path, index=False)\n",
    "\n",
    "# Print a message to confirm the operation\n",
    "print(f'Dataframe has been saved to {csv_path}')"
   ]
  },
  {
   "cell_type": "code",
   "execution_count": null,
   "id": "ffa3daf8-eb47-4a0d-b65e-3ccc2c45a73a",
   "metadata": {},
   "outputs": [],
   "source": []
  }
 ],
 "metadata": {
  "kernelspec": {
   "display_name": "Python 3 (ipykernel)",
   "language": "python",
   "name": "python3"
  },
  "language_info": {
   "codemirror_mode": {
    "name": "ipython",
    "version": 3
   },
   "file_extension": ".py",
   "mimetype": "text/x-python",
   "name": "python",
   "nbconvert_exporter": "python",
   "pygments_lexer": "ipython3",
   "version": "3.11.7"
  }
 },
 "nbformat": 4,
 "nbformat_minor": 5
}
